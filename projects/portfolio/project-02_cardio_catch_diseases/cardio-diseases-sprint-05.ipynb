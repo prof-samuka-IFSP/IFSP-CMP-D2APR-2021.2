{
 "cells": [
  {
   "cell_type": "markdown",
   "id": "floral-torture",
   "metadata": {},
   "source": [
    "### **D2APR: Aprendizado de Máquina e Reconhecimento de Padrões** (IFSP, Campinas) <br/>\n",
    "**Prof**: Samuel Martins (Samuka) <br/>\n",
    "\n",
    "<a rel=\"license\" href=\"http://creativecommons.org/licenses/by-nc-sa/4.0/\"><img alt=\"Creative Commons License\" style=\"border-width:0\" src=\"https://i.creativecommons.org/l/by-nc-sa/4.0/88x31.png\" /></a><br />This work is licensed under a <a rel=\"license\" href=\"http://creativecommons.org/licenses/by-nc-sa/4.0/\">Creative Commons Attribution-NonCommercial-ShareAlike 4.0 International License</a>. <br/><br/>"
   ]
  },
  {
   "cell_type": "markdown",
   "id": "proprietary-structure",
   "metadata": {},
   "source": [
    "#### Custom CSS style"
   ]
  },
  {
   "cell_type": "code",
   "execution_count": 1,
   "id": "massive-relation",
   "metadata": {
    "tags": []
   },
   "outputs": [
    {
     "data": {
      "text/html": [
       "<style>\n",
       ".dashed-box {\n",
       "    border: 1px dashed black !important;\n",
       "#    font-size: var(--jp-content-font-size1) !important;\n",
       "}\n",
       "\n",
       ".dashed-box table {\n",
       "\n",
       "}\n",
       "\n",
       ".dashed-box tr {\n",
       "    background-color: white !important;\n",
       "}\n",
       "        \n",
       ".alt-tab {\n",
       "    background-color: black;\n",
       "    color: #ffc351;\n",
       "    padding: 4px;\n",
       "    font-size: 1em;\n",
       "    font-weight: bold;\n",
       "    font-family: monospace;\n",
       "}\n",
       "// add your CSS styling here\n",
       "</style>\n"
      ],
      "text/plain": [
       "<IPython.core.display.HTML object>"
      ]
     },
     "metadata": {},
     "output_type": "display_data"
    }
   ],
   "source": [
    "%%html\n",
    "<style>\n",
    ".dashed-box {\n",
    "    border: 1px dashed black !important;\n",
    "#    font-size: var(--jp-content-font-size1) !important;\n",
    "}\n",
    "\n",
    ".dashed-box table {\n",
    "\n",
    "}\n",
    "\n",
    ".dashed-box tr {\n",
    "    background-color: white !important;\n",
    "}\n",
    "        \n",
    ".alt-tab {\n",
    "    background-color: black;\n",
    "    color: #ffc351;\n",
    "    padding: 4px;\n",
    "    font-size: 1em;\n",
    "    font-weight: bold;\n",
    "    font-family: monospace;\n",
    "}\n",
    "// add your CSS styling here\n",
    "</style>"
   ]
  },
  {
   "cell_type": "markdown",
   "id": "global-abraham",
   "metadata": {},
   "source": [
    "<span style='font-size: 2.5em'><b>Cardiovascular Disease 💔</b></span><br/>\n",
    "<span style='font-size: 1.5em'>Predict cardiovascular diseases</span>\n",
    "\n",
    "<span style=\"background-color: #ffc351; padding: 4px; font-size: 1em;\"><b>Sprint #5</b></span>\n",
    "\n",
    "<img src=\"./imgs/cardio.png\" width=300/>\n",
    "\n",
    "---\n",
    "\n"
   ]
  },
  {
   "cell_type": "markdown",
   "id": "together-cabin",
   "metadata": {},
   "source": [
    "## Before starting this notebook\n",
    "This jupyter notebook is designed for **experimental and teaching purposes**. <br/>\n",
    "Although it is (relatively) well organized, it aims at solving the _target problem_ by evaluating (and documenting) _different solutions_ for somes steps of the **machine learning pipeline** — see the [***Machine Learning Project Checklist by xavecoding***](https://github.com/xavecoding/IFSP-CMP-D2APR-2021.2/blob/main/cheat-sheets/machine-learning-project-checklist_by_xavecoding.pdf). <br/>\n",
    "We tried to make this notebook as literally a _notebook_. Thus, it contains notes, drafts, comments, etc.<br/>\n",
    "\n",
    "For teaching purposes, some parts of the notebook may be _overcommented_. Moreover, to simulate a real development scenario, we will divide our solution and experiments into **\"sprints\"** in which each sprint has some goals (e.g., perform _feature selection_, train more ML models, ...). <br/>\n",
    "The **sprint goal** will be stated at the beginning of the notebook.\n",
    "\n",
    "A ***final notebook*** (or any other kind of presentation) that compiles and summarizes all sprints — the target problem, solutions, and findings — should be created later.\n",
    "\n",
    "#### Conventions\n",
    "\n",
    "<ul>\n",
    "    <li>💡 indicates a tip. </li>\n",
    "    <li> ⚠️ indicates a warning message. </li>\n",
    "    <li><span class='alt-tab'>alt tab</span> indicates and an extra content (<i>e.g.</i>, slides) to explain a given concept.</li>\n",
    "</ul>\n",
    "\n",
    "---"
   ]
  },
  {
   "cell_type": "markdown",
   "id": "devoted-wisconsin",
   "metadata": {},
   "source": [
    "## 🎯 Sprint Goals\n",
    "- Evaluate on the training set:\n",
    "  + Decision Trees\n",
    "---"
   ]
  },
  {
   "cell_type": "markdown",
   "id": "taken-printing",
   "metadata": {},
   "source": [
    "### 0. Imports and default settings for plotting"
   ]
  },
  {
   "cell_type": "code",
   "execution_count": 2,
   "id": "detailed-ecuador",
   "metadata": {},
   "outputs": [],
   "source": [
    "import numpy as np\n",
    "import pandas as pd\n",
    "import matplotlib.pyplot as plt\n",
    "import seaborn as sns\n",
    "\n",
    "sns.set_theme(style=\"whitegrid\")\n",
    "\n",
    "params = {'legend.fontsize': 'x-large',\n",
    "          'figure.figsize': (15, 5),\n",
    "         'axes.labelsize': 'x-large',\n",
    "         'axes.titlesize':'x-large',\n",
    "         'xtick.labelsize':'x-large',\n",
    "         'ytick.labelsize':'x-large'}\n",
    "plt.rcParams.update(params)"
   ]
  },
  {
   "cell_type": "markdown",
   "id": "banned-beginning",
   "metadata": {},
   "source": [
    "## 🛠️ 5. Prepare the Data\n",
    "There is no need for feature scaling and categorical encoding. We will just use Imputation."
   ]
  },
  {
   "cell_type": "markdown",
   "id": "protective-muslim",
   "metadata": {},
   "source": [
    "### 5.1. Load the cleaned training set\n",
    "Let's consider the training and testing sets already cleaned (Sprint #1)"
   ]
  },
  {
   "cell_type": "code",
   "execution_count": 3,
   "id": "residential-bulletin",
   "metadata": {},
   "outputs": [],
   "source": [
    "cardio_train = pd.read_csv('./datasets/cardio_clean_train.csv')"
   ]
  },
  {
   "cell_type": "code",
   "execution_count": 4,
   "id": "damaged-stephen",
   "metadata": {},
   "outputs": [
    {
     "data": {
      "text/html": [
       "<div>\n",
       "<style scoped>\n",
       "    .dataframe tbody tr th:only-of-type {\n",
       "        vertical-align: middle;\n",
       "    }\n",
       "\n",
       "    .dataframe tbody tr th {\n",
       "        vertical-align: top;\n",
       "    }\n",
       "\n",
       "    .dataframe thead th {\n",
       "        text-align: right;\n",
       "    }\n",
       "</style>\n",
       "<table border=\"1\" class=\"dataframe\">\n",
       "  <thead>\n",
       "    <tr style=\"text-align: right;\">\n",
       "      <th></th>\n",
       "      <th>age</th>\n",
       "      <th>gender</th>\n",
       "      <th>height</th>\n",
       "      <th>weight</th>\n",
       "      <th>ap_hi</th>\n",
       "      <th>ap_lo</th>\n",
       "      <th>cholesterol</th>\n",
       "      <th>gluc</th>\n",
       "      <th>smoke</th>\n",
       "      <th>alco</th>\n",
       "      <th>active</th>\n",
       "      <th>cardio</th>\n",
       "    </tr>\n",
       "  </thead>\n",
       "  <tbody>\n",
       "    <tr>\n",
       "      <th>0</th>\n",
       "      <td>21875</td>\n",
       "      <td>2</td>\n",
       "      <td>171</td>\n",
       "      <td>74.0</td>\n",
       "      <td>120</td>\n",
       "      <td>80</td>\n",
       "      <td>1</td>\n",
       "      <td>1</td>\n",
       "      <td>0</td>\n",
       "      <td>0</td>\n",
       "      <td>0</td>\n",
       "      <td>1</td>\n",
       "    </tr>\n",
       "    <tr>\n",
       "      <th>1</th>\n",
       "      <td>15302</td>\n",
       "      <td>1</td>\n",
       "      <td>162</td>\n",
       "      <td>66.0</td>\n",
       "      <td>110</td>\n",
       "      <td>80</td>\n",
       "      <td>1</td>\n",
       "      <td>1</td>\n",
       "      <td>0</td>\n",
       "      <td>0</td>\n",
       "      <td>1</td>\n",
       "      <td>0</td>\n",
       "    </tr>\n",
       "    <tr>\n",
       "      <th>2</th>\n",
       "      <td>18079</td>\n",
       "      <td>1</td>\n",
       "      <td>166</td>\n",
       "      <td>69.0</td>\n",
       "      <td>120</td>\n",
       "      <td>80</td>\n",
       "      <td>1</td>\n",
       "      <td>2</td>\n",
       "      <td>0</td>\n",
       "      <td>0</td>\n",
       "      <td>1</td>\n",
       "      <td>0</td>\n",
       "    </tr>\n",
       "    <tr>\n",
       "      <th>3</th>\n",
       "      <td>21680</td>\n",
       "      <td>1</td>\n",
       "      <td>169</td>\n",
       "      <td>65.0</td>\n",
       "      <td>120</td>\n",
       "      <td>80</td>\n",
       "      <td>1</td>\n",
       "      <td>1</td>\n",
       "      <td>0</td>\n",
       "      <td>0</td>\n",
       "      <td>0</td>\n",
       "      <td>1</td>\n",
       "    </tr>\n",
       "    <tr>\n",
       "      <th>4</th>\n",
       "      <td>14368</td>\n",
       "      <td>1</td>\n",
       "      <td>155</td>\n",
       "      <td>80.0</td>\n",
       "      <td>120</td>\n",
       "      <td>80</td>\n",
       "      <td>1</td>\n",
       "      <td>1</td>\n",
       "      <td>0</td>\n",
       "      <td>0</td>\n",
       "      <td>1</td>\n",
       "      <td>0</td>\n",
       "    </tr>\n",
       "  </tbody>\n",
       "</table>\n",
       "</div>"
      ],
      "text/plain": [
       "     age  gender  height  weight  ap_hi  ap_lo  cholesterol  gluc  smoke  \\\n",
       "0  21875       2     171    74.0    120     80            1     1      0   \n",
       "1  15302       1     162    66.0    110     80            1     1      0   \n",
       "2  18079       1     166    69.0    120     80            1     2      0   \n",
       "3  21680       1     169    65.0    120     80            1     1      0   \n",
       "4  14368       1     155    80.0    120     80            1     1      0   \n",
       "\n",
       "   alco  active  cardio  \n",
       "0     0       0       1  \n",
       "1     0       1       0  \n",
       "2     0       1       0  \n",
       "3     0       0       1  \n",
       "4     0       1       0  "
      ]
     },
     "execution_count": 4,
     "metadata": {},
     "output_type": "execute_result"
    }
   ],
   "source": [
    "cardio_train.head()"
   ]
  },
  {
   "cell_type": "code",
   "execution_count": 5,
   "id": "opposed-process",
   "metadata": {},
   "outputs": [
    {
     "name": "stdout",
     "output_type": "stream",
     "text": [
      "1    35641\n",
      "2    19079\n",
      "Name: gender, dtype: int64\n",
      "\n",
      "1    41031\n",
      "2     7401\n",
      "3     6288\n",
      "Name: cholesterol, dtype: int64\n",
      "\n",
      "1    46543\n",
      "3     4173\n",
      "2     4004\n",
      "Name: gluc, dtype: int64\n",
      "\n",
      "0    49918\n",
      "1     4802\n",
      "Name: smoke, dtype: int64\n",
      "\n",
      "0    51793\n",
      "1     2927\n",
      "Name: alco, dtype: int64\n",
      "\n",
      "1    43963\n",
      "0    10757\n",
      "Name: active, dtype: int64\n",
      "\n"
     ]
    }
   ],
   "source": [
    "# Just to remember what categorical variables are like\n",
    "for cat_attribute in ['gender', 'cholesterol', 'gluc', 'smoke', 'alco', 'active']:\n",
    "    print(cardio_train[cat_attribute].value_counts())\n",
    "    print()"
   ]
  },
  {
   "cell_type": "markdown",
   "id": "frequent-bible",
   "metadata": {},
   "source": [
    "### 5.2. Separate the features and the classes (target outcome)"
   ]
  },
  {
   "cell_type": "code",
   "execution_count": 6,
   "id": "assured-chart",
   "metadata": {},
   "outputs": [
    {
     "data": {
      "text/plain": [
       "Index(['age', 'gender', 'height', 'weight', 'ap_hi', 'ap_lo', 'cholesterol',\n",
       "       'gluc', 'smoke', 'alco', 'active', 'cardio'],\n",
       "      dtype='object')"
      ]
     },
     "execution_count": 6,
     "metadata": {},
     "output_type": "execute_result"
    }
   ],
   "source": [
    "cardio_train.columns"
   ]
  },
  {
   "cell_type": "code",
   "execution_count": 7,
   "id": "configured-aberdeen",
   "metadata": {},
   "outputs": [],
   "source": [
    "# store the target outcome into a numpy array\n",
    "y_train = cardio_train['cardio'].values"
   ]
  },
  {
   "cell_type": "code",
   "execution_count": 8,
   "id": "current-balloon",
   "metadata": {},
   "outputs": [
    {
     "data": {
      "text/plain": [
       "array([1, 0, 0, ..., 0, 1, 0])"
      ]
     },
     "execution_count": 8,
     "metadata": {},
     "output_type": "execute_result"
    }
   ],
   "source": [
    "y_train"
   ]
  },
  {
   "cell_type": "code",
   "execution_count": 9,
   "id": "young-commission",
   "metadata": {},
   "outputs": [
    {
     "data": {
      "text/plain": [
       "(54720,)"
      ]
     },
     "execution_count": 9,
     "metadata": {},
     "output_type": "execute_result"
    }
   ],
   "source": [
    "y_train.shape"
   ]
  },
  {
   "cell_type": "code",
   "execution_count": 10,
   "id": "atomic-annex",
   "metadata": {},
   "outputs": [],
   "source": [
    "# overwrite the dataframe with only the features  \n",
    "cardio_train = cardio_train.drop(columns=['cardio'])"
   ]
  },
  {
   "cell_type": "code",
   "execution_count": 11,
   "id": "round-setting",
   "metadata": {},
   "outputs": [
    {
     "data": {
      "text/html": [
       "<div>\n",
       "<style scoped>\n",
       "    .dataframe tbody tr th:only-of-type {\n",
       "        vertical-align: middle;\n",
       "    }\n",
       "\n",
       "    .dataframe tbody tr th {\n",
       "        vertical-align: top;\n",
       "    }\n",
       "\n",
       "    .dataframe thead th {\n",
       "        text-align: right;\n",
       "    }\n",
       "</style>\n",
       "<table border=\"1\" class=\"dataframe\">\n",
       "  <thead>\n",
       "    <tr style=\"text-align: right;\">\n",
       "      <th></th>\n",
       "      <th>age</th>\n",
       "      <th>gender</th>\n",
       "      <th>height</th>\n",
       "      <th>weight</th>\n",
       "      <th>ap_hi</th>\n",
       "      <th>ap_lo</th>\n",
       "      <th>cholesterol</th>\n",
       "      <th>gluc</th>\n",
       "      <th>smoke</th>\n",
       "      <th>alco</th>\n",
       "      <th>active</th>\n",
       "    </tr>\n",
       "  </thead>\n",
       "  <tbody>\n",
       "    <tr>\n",
       "      <th>0</th>\n",
       "      <td>21875</td>\n",
       "      <td>2</td>\n",
       "      <td>171</td>\n",
       "      <td>74.0</td>\n",
       "      <td>120</td>\n",
       "      <td>80</td>\n",
       "      <td>1</td>\n",
       "      <td>1</td>\n",
       "      <td>0</td>\n",
       "      <td>0</td>\n",
       "      <td>0</td>\n",
       "    </tr>\n",
       "    <tr>\n",
       "      <th>1</th>\n",
       "      <td>15302</td>\n",
       "      <td>1</td>\n",
       "      <td>162</td>\n",
       "      <td>66.0</td>\n",
       "      <td>110</td>\n",
       "      <td>80</td>\n",
       "      <td>1</td>\n",
       "      <td>1</td>\n",
       "      <td>0</td>\n",
       "      <td>0</td>\n",
       "      <td>1</td>\n",
       "    </tr>\n",
       "    <tr>\n",
       "      <th>2</th>\n",
       "      <td>18079</td>\n",
       "      <td>1</td>\n",
       "      <td>166</td>\n",
       "      <td>69.0</td>\n",
       "      <td>120</td>\n",
       "      <td>80</td>\n",
       "      <td>1</td>\n",
       "      <td>2</td>\n",
       "      <td>0</td>\n",
       "      <td>0</td>\n",
       "      <td>1</td>\n",
       "    </tr>\n",
       "    <tr>\n",
       "      <th>3</th>\n",
       "      <td>21680</td>\n",
       "      <td>1</td>\n",
       "      <td>169</td>\n",
       "      <td>65.0</td>\n",
       "      <td>120</td>\n",
       "      <td>80</td>\n",
       "      <td>1</td>\n",
       "      <td>1</td>\n",
       "      <td>0</td>\n",
       "      <td>0</td>\n",
       "      <td>0</td>\n",
       "    </tr>\n",
       "    <tr>\n",
       "      <th>4</th>\n",
       "      <td>14368</td>\n",
       "      <td>1</td>\n",
       "      <td>155</td>\n",
       "      <td>80.0</td>\n",
       "      <td>120</td>\n",
       "      <td>80</td>\n",
       "      <td>1</td>\n",
       "      <td>1</td>\n",
       "      <td>0</td>\n",
       "      <td>0</td>\n",
       "      <td>1</td>\n",
       "    </tr>\n",
       "  </tbody>\n",
       "</table>\n",
       "</div>"
      ],
      "text/plain": [
       "     age  gender  height  weight  ap_hi  ap_lo  cholesterol  gluc  smoke  \\\n",
       "0  21875       2     171    74.0    120     80            1     1      0   \n",
       "1  15302       1     162    66.0    110     80            1     1      0   \n",
       "2  18079       1     166    69.0    120     80            1     2      0   \n",
       "3  21680       1     169    65.0    120     80            1     1      0   \n",
       "4  14368       1     155    80.0    120     80            1     1      0   \n",
       "\n",
       "   alco  active  \n",
       "0     0       0  \n",
       "1     0       1  \n",
       "2     0       1  \n",
       "3     0       0  \n",
       "4     0       1  "
      ]
     },
     "execution_count": 11,
     "metadata": {},
     "output_type": "execute_result"
    }
   ],
   "source": [
    "cardio_train.head()"
   ]
  },
  {
   "cell_type": "code",
   "execution_count": 12,
   "id": "mathematical-soundtrack",
   "metadata": {},
   "outputs": [
    {
     "data": {
      "text/plain": [
       "(54720, 11)"
      ]
     },
     "execution_count": 12,
     "metadata": {},
     "output_type": "execute_result"
    }
   ],
   "source": [
    "cardio_train.shape"
   ]
  },
  {
   "cell_type": "markdown",
   "id": "funky-cooper",
   "metadata": {},
   "source": [
    "### 5.3. Separate the numerical and categorical features¶\n",
    "Since we perform different preprocessing tasks (transformations) to _numerical features_ and _categorical ones_, let's split them into two different dataframes."
   ]
  },
  {
   "cell_type": "code",
   "execution_count": 13,
   "id": "sapphire-biodiversity",
   "metadata": {},
   "outputs": [
    {
     "data": {
      "text/plain": [
       "Index(['age', 'gender', 'height', 'weight', 'ap_hi', 'ap_lo', 'cholesterol',\n",
       "       'gluc', 'smoke', 'alco', 'active'],\n",
       "      dtype='object')"
      ]
     },
     "execution_count": 13,
     "metadata": {},
     "output_type": "execute_result"
    }
   ],
   "source": [
    "cardio_train.columns"
   ]
  },
  {
   "cell_type": "code",
   "execution_count": 14,
   "id": "comparable-librarian",
   "metadata": {},
   "outputs": [],
   "source": [
    "# numerical variables\n",
    "num_vars = ['age', 'height', 'weight', 'ap_hi', 'ap_lo']\n",
    "\n",
    "# categorical binary variables\n",
    "bin_vars = ['gender', 'smoke', 'alco', 'active']\n",
    "\n",
    "# categorical variables\n",
    "cat_vars = ['cholesterol', 'gluc']"
   ]
  },
  {
   "cell_type": "code",
   "execution_count": 15,
   "id": "sweet-alexandria",
   "metadata": {},
   "outputs": [],
   "source": [
    "## separating the features into specific dataset according to their type\n",
    "cardio_train_num = cardio_train[num_vars]\n",
    "cardio_train_bin = cardio_train[bin_vars]\n",
    "cardio_train_cat = cardio_train[cat_vars]"
   ]
  },
  {
   "cell_type": "markdown",
   "id": "smart-telephone",
   "metadata": {},
   "source": [
    "### 5.4. Creating the Preprocessing Pipeline"
   ]
  },
  {
   "cell_type": "code",
   "execution_count": 16,
   "id": "german-dialogue",
   "metadata": {},
   "outputs": [],
   "source": [
    "from sklearn.impute import SimpleImputer\n",
    "\n",
    "from sklearn.pipeline import Pipeline\n",
    "from sklearn.compose import ColumnTransformer\n",
    "\n",
    "num_pipeline = Pipeline([\n",
    "    ('imputer', SimpleImputer(strategy='median'))\n",
    "])\n",
    "\n",
    "bin_pipeline = Pipeline([\n",
    "    ('imputer', SimpleImputer(strategy='most_frequent'))  # as the categories are numbers, we can use the SimpleImputer\n",
    "])\n",
    "\n",
    "cat_pipeline = Pipeline([\n",
    "    ('imputer', SimpleImputer(strategy='most_frequent'))\n",
    "])\n",
    "\n",
    "\n",
    "\n",
    "# (name, transformer, columns)\n",
    "preprocessed_pipeline = ColumnTransformer([\n",
    "    ('numerical', num_pipeline, num_vars),\n",
    "    ('binary', bin_pipeline, bin_vars),\n",
    "    ('categorical', cat_pipeline, cat_vars)\n",
    "])"
   ]
  },
  {
   "cell_type": "markdown",
   "id": "blond-birthday",
   "metadata": {},
   "source": [
    "### 🏋️‍♀️ 6. Train ML Algorithms"
   ]
  },
  {
   "cell_type": "markdown",
   "id": "standing-shell",
   "metadata": {},
   "source": [
    "### 6.1. Getting the independent (features) and classes (outcome)"
   ]
  },
  {
   "cell_type": "code",
   "execution_count": 17,
   "id": "going-installation",
   "metadata": {},
   "outputs": [
    {
     "data": {
      "text/plain": [
       "(54720, 11)"
      ]
     },
     "execution_count": 17,
     "metadata": {},
     "output_type": "execute_result"
    }
   ],
   "source": [
    "X_train = preprocessed_pipeline.fit_transform(cardio_train)\n",
    "X_train.shape"
   ]
  },
  {
   "cell_type": "code",
   "execution_count": 18,
   "id": "beneficial-suffering",
   "metadata": {},
   "outputs": [
    {
     "data": {
      "text/plain": [
       "(54720,)"
      ]
     },
     "execution_count": 18,
     "metadata": {},
     "output_type": "execute_result"
    }
   ],
   "source": [
    "# we already have y_train\n",
    "y_train.shape"
   ]
  },
  {
   "cell_type": "markdown",
   "id": "inner-insulin",
   "metadata": {},
   "source": [
    "### 6.2. Training the Models"
   ]
  },
  {
   "cell_type": "code",
   "execution_count": 19,
   "id": "herbal-course",
   "metadata": {},
   "outputs": [],
   "source": [
    "# printing function\n",
    "def display_scores(scores):\n",
    "    print(\"Scores:\", scores)\n",
    "    print(\"\\nMean:\", scores.mean())\n",
    "    print(\"Standard deviation:\", scores.std())"
   ]
  },
  {
   "cell_type": "markdown",
   "id": "laughing-civilian",
   "metadata": {},
   "source": [
    "#### **Decision Trees - No Regularization**"
   ]
  },
  {
   "cell_type": "markdown",
   "id": "biblical-savings",
   "metadata": {},
   "source": [
    "##### **Accuracy**"
   ]
  },
  {
   "cell_type": "code",
   "execution_count": 20,
   "id": "necessary-turner",
   "metadata": {},
   "outputs": [
    {
     "name": "stdout",
     "output_type": "stream",
     "text": [
      "Scores: [0.6370614  0.63112208 0.63395468 0.63578216 0.63039108]\n",
      "\n",
      "Mean: 0.6336622807017545\n",
      "Standard deviation: 0.002580186735588428\n"
     ]
    }
   ],
   "source": [
    "from sklearn.model_selection import cross_val_score\n",
    "from sklearn.tree import DecisionTreeClassifier\n",
    "\n",
    "dt = DecisionTreeClassifier(random_state=42)\n",
    "dt_accs = cross_val_score(dt, X_train, y_train, scoring=\"accuracy\", cv=5)\n",
    "\n",
    "display_scores(dt_accs)"
   ]
  },
  {
   "cell_type": "markdown",
   "id": "01992f9b-f370-44f5-aa0e-1674947e670d",
   "metadata": {},
   "source": [
    "#### **Decision Trees - Max Depth of 10**"
   ]
  },
  {
   "cell_type": "markdown",
   "id": "f2aba851-eaca-4bcd-8018-b674b0f4a863",
   "metadata": {},
   "source": [
    "##### **Accuracy**"
   ]
  },
  {
   "cell_type": "code",
   "execution_count": 21,
   "id": "3d628b48-aae8-4d82-b69a-872ce6c2595b",
   "metadata": {},
   "outputs": [
    {
     "name": "stdout",
     "output_type": "stream",
     "text": [
      "Scores: [0.72423246 0.73346126 0.72669956 0.72012061 0.72423246]\n",
      "\n",
      "Mean: 0.725749269005848\n",
      "Standard deviation: 0.004396840196351594\n"
     ]
    }
   ],
   "source": [
    "from sklearn.model_selection import cross_val_score\n",
    "from sklearn.tree import DecisionTreeClassifier\n",
    "\n",
    "dt = DecisionTreeClassifier(max_depth=10, random_state=42)\n",
    "dt_accs = cross_val_score(dt, X_train, y_train, scoring=\"accuracy\", cv=5)\n",
    "\n",
    "display_scores(dt_accs)"
   ]
  }
 ],
 "metadata": {
  "kernelspec": {
   "display_name": "Python 3",
   "language": "python",
   "name": "python3"
  },
  "language_info": {
   "codemirror_mode": {
    "name": "ipython",
    "version": 3
   },
   "file_extension": ".py",
   "mimetype": "text/x-python",
   "name": "python",
   "nbconvert_exporter": "python",
   "pygments_lexer": "ipython3",
   "version": "3.8.5"
  }
 },
 "nbformat": 4,
 "nbformat_minor": 5
}
